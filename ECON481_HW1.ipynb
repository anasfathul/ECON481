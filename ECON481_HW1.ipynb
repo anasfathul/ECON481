{
 "cells": [
  {
   "cell_type": "code",
   "execution_count": 1,
   "id": "5f7cd777-6d75-47b6-bba6-a44e317fb35f",
   "metadata": {},
   "outputs": [],
   "source": [
    "def github() -> str:\n",
    "    \"\"\"\n",
    "    This function returns a link to the GitHub repository containing solutions.\n",
    "\n",
    "    Returns:\n",
    "        str: The URL to the GitHub repository.\n",
    "    \"\"\"\n",
    "    return \"https://github.com/anasfathul/ECON481/ECON481_HW1.py>\""
   ]
  },
  {
   "cell_type": "code",
   "execution_count": 7,
   "id": "ed51f6ca-bc6f-4c4f-8e36-906f8a90ba0d",
   "metadata": {},
   "outputs": [],
   "source": [
    "# Exercise 1 importing packages as needed (to show packages)\n",
    "#import numpy as np\n",
    "#import pandas as pd\n",
    "#import scipy\n",
    "#import matplotlib.pyplot as plt\n",
    "#import seaborn as sns"
   ]
  },
  {
   "cell_type": "code",
   "execution_count": 18,
   "id": "2a4831c5-c297-4084-9950-cdcda400752c",
   "metadata": {},
   "outputs": [],
   "source": [
    "# Exercise 2\n",
    "def evens_and_odds(n: int) -> dict:\n",
    "    \"\"\"\n",
    "    This function takes a natural number n as argument and returns a dictionary with two keys,\n",
    "    “evens” and “odds”. “evens” should be the sum of all the even natural numbers less than n,\n",
    "    and “odds” the sum of all natural numbers less than n.\n",
    "    \"\"\"\n",
    "    evens_sum = sum([i for i in range(n) if i % 2 == 0])\n",
    "    odd_sum = sum([i for i in range(n) if i % 2 != 0])\n",
    "    return {'evens': evens_sum, 'odds': odd_sum}"
   ]
  },
  {
   "cell_type": "code",
   "execution_count": 34,
   "id": "cbf2b93d-bdec-457f-8ae8-f527f2482471",
   "metadata": {},
   "outputs": [],
   "source": [
    "# Exercise 3\n",
    "from typing import Union\n",
    "from datetime import datetime\n",
    "\n",
    "def time_diff(date_1: str, date_2: str, out: str) -> Union[str,float]:\n",
    "    \"\"\"\n",
    "    This function takes two strings in the format ‘YYYY-MM-DD’ and a keyword out dictating the output.\n",
    "    If the keyword is “float”, return the time between the two dates (in absolute value) in days.\n",
    "    If the keyword is “string”, return “There are XX days between the two dates”.\n",
    "    If not specified, the out keyword should be assumed to be “float”.\n",
    "    \"\"\"\n",
    "    date_1_parsed = datetime.strptime(date_1, '%Y-%m-%d')\n",
    "    date_2_parsed = datetime.strptime(date_2, '%Y-%m-%d')\n",
    "\n",
    "    # Calculate the absolute difference in days\n",
    "    diff = abs((date_2_parsed - date_1_parsed).days)\n",
    "\n",
    "    # Return the difference based on the 'out' parameter\n",
    "    if out == 'string':\n",
    "        return f\"There are {diff} days between the two dates\"\n",
    "    else:  # Default to returning the difference as a float\n",
    "        return diff\n",
    "\n",
    "    return None"
   ]
  },
  {
   "cell_type": "code",
   "execution_count": 52,
   "id": "8e654c9b-b365-44b7-9ccc-0c93ee2b60de",
   "metadata": {},
   "outputs": [],
   "source": [
    "# Exercise 4\n",
    "\n",
    "def reverse(in_list: list) -> list:\n",
    "    \"\"\"\n",
    "    This function takes a list and returns a list of the arguments in reverse order.\n",
    "    \"\"\"\n",
    "    reversed_list = []  # Initialize an empty list to store the reversed elements\n",
    "    for item in in_list:\n",
    "        reversed_list.insert(0, item)\n",
    "    return reversed_list"
   ]
  },
  {
   "cell_type": "code",
   "execution_count": 54,
   "id": "9474eb09-8d38-43e7-a862-1bfbd516ce59",
   "metadata": {},
   "outputs": [],
   "source": [
    "# Exercise 5\n",
    "\n",
    "def prob_k_heads(n: int, k: int) -> float:\n",
    "    \"\"\"\n",
    "    This function takes as its arguments natural numbers n and k with n>k and\n",
    "    returns the probability of getting k heads from n flips.\n",
    "    \"\"\"\n",
    "    def factorial(x):\n",
    "        if x == 0 or x == 1:\n",
    "            return 1\n",
    "        else:\n",
    "            return x * factorial(x - 1)\n",
    "    \n",
    "    # Function to calculate binomial coefficient\n",
    "    def binom_coeff(n, k):\n",
    "        return factorial(n) / (factorial(k) * factorial(n - k))\n",
    "    \n",
    "    # Probability of success on a single trial\n",
    "    p = 0.5\n",
    "    \n",
    "    # Calculating the probability\n",
    "    probability = binom_coeff(n, k) * (p ** k) * ((1 - p) ** (n - k))\n",
    "    \n",
    "    return probability"
   ]
  }
 ],
 "metadata": {
  "kernelspec": {
   "display_name": "Python 3 (ipykernel)",
   "language": "python",
   "name": "python3"
  },
  "language_info": {
   "codemirror_mode": {
    "name": "ipython",
    "version": 3
   },
   "file_extension": ".py",
   "mimetype": "text/x-python",
   "name": "python",
   "nbconvert_exporter": "python",
   "pygments_lexer": "ipython3",
   "version": "3.10.13"
  }
 },
 "nbformat": 4,
 "nbformat_minor": 5
}
