{
 "cells": [
  {
   "cell_type": "code",
   "execution_count": 1,
   "id": "5f7cd777-6d75-47b6-bba6-a44e317fb35f",
   "metadata": {},
   "outputs": [],
   "source": [
    "def github() -> str:\n",
    "    \"\"\"\n",
    "    This function returns a link to the GitHub repository containing solutions.\n",
    "\n",
    "    Returns:\n",
    "        str: The URL to the GitHub repository.\n",
    "    \"\"\"\n",
    "    return \"https://github.com/anasfathul/ECON481/blob/main/ECON481_HW4.py\""
   ]
  },
  {
   "cell_type": "code",
   "execution_count": 13,
   "id": "00c185ba-a237-4c1b-95cb-83e81b7d0c1e",
   "metadata": {},
   "outputs": [
    {
     "data": {
      "text/html": [
       "<div>\n",
       "<style scoped>\n",
       "    .dataframe tbody tr th:only-of-type {\n",
       "        vertical-align: middle;\n",
       "    }\n",
       "\n",
       "    .dataframe tbody tr th {\n",
       "        vertical-align: top;\n",
       "    }\n",
       "\n",
       "    .dataframe thead th {\n",
       "        text-align: right;\n",
       "    }\n",
       "</style>\n",
       "<table border=\"1\" class=\"dataframe\">\n",
       "  <thead>\n",
       "    <tr style=\"text-align: right;\">\n",
       "      <th></th>\n",
       "      <th>Open</th>\n",
       "      <th>High</th>\n",
       "      <th>Low</th>\n",
       "      <th>Close</th>\n",
       "      <th>Adj Close</th>\n",
       "      <th>Volume</th>\n",
       "    </tr>\n",
       "    <tr>\n",
       "      <th>Date</th>\n",
       "      <th></th>\n",
       "      <th></th>\n",
       "      <th></th>\n",
       "      <th></th>\n",
       "      <th></th>\n",
       "      <th></th>\n",
       "    </tr>\n",
       "  </thead>\n",
       "  <tbody>\n",
       "    <tr>\n",
       "      <th>2010-06-29</th>\n",
       "      <td>1.266667</td>\n",
       "      <td>1.666667</td>\n",
       "      <td>1.169333</td>\n",
       "      <td>1.592667</td>\n",
       "      <td>1.592667</td>\n",
       "      <td>281494500</td>\n",
       "    </tr>\n",
       "    <tr>\n",
       "      <th>2010-06-30</th>\n",
       "      <td>1.719333</td>\n",
       "      <td>2.028000</td>\n",
       "      <td>1.553333</td>\n",
       "      <td>1.588667</td>\n",
       "      <td>1.588667</td>\n",
       "      <td>257806500</td>\n",
       "    </tr>\n",
       "    <tr>\n",
       "      <th>2010-07-01</th>\n",
       "      <td>1.666667</td>\n",
       "      <td>1.728000</td>\n",
       "      <td>1.351333</td>\n",
       "      <td>1.464000</td>\n",
       "      <td>1.464000</td>\n",
       "      <td>123282000</td>\n",
       "    </tr>\n",
       "    <tr>\n",
       "      <th>2010-07-02</th>\n",
       "      <td>1.533333</td>\n",
       "      <td>1.540000</td>\n",
       "      <td>1.247333</td>\n",
       "      <td>1.280000</td>\n",
       "      <td>1.280000</td>\n",
       "      <td>77097000</td>\n",
       "    </tr>\n",
       "    <tr>\n",
       "      <th>2010-07-06</th>\n",
       "      <td>1.333333</td>\n",
       "      <td>1.333333</td>\n",
       "      <td>1.055333</td>\n",
       "      <td>1.074000</td>\n",
       "      <td>1.074000</td>\n",
       "      <td>103003500</td>\n",
       "    </tr>\n",
       "    <tr>\n",
       "      <th>...</th>\n",
       "      <td>...</td>\n",
       "      <td>...</td>\n",
       "      <td>...</td>\n",
       "      <td>...</td>\n",
       "      <td>...</td>\n",
       "      <td>...</td>\n",
       "    </tr>\n",
       "    <tr>\n",
       "      <th>2024-04-09</th>\n",
       "      <td>172.910004</td>\n",
       "      <td>179.220001</td>\n",
       "      <td>171.919998</td>\n",
       "      <td>176.880005</td>\n",
       "      <td>176.880005</td>\n",
       "      <td>103232700</td>\n",
       "    </tr>\n",
       "    <tr>\n",
       "      <th>2024-04-10</th>\n",
       "      <td>173.039993</td>\n",
       "      <td>174.929993</td>\n",
       "      <td>170.009995</td>\n",
       "      <td>171.759995</td>\n",
       "      <td>171.759995</td>\n",
       "      <td>84532400</td>\n",
       "    </tr>\n",
       "    <tr>\n",
       "      <th>2024-04-11</th>\n",
       "      <td>172.550003</td>\n",
       "      <td>175.880005</td>\n",
       "      <td>168.509995</td>\n",
       "      <td>174.600006</td>\n",
       "      <td>174.600006</td>\n",
       "      <td>94516000</td>\n",
       "    </tr>\n",
       "    <tr>\n",
       "      <th>2024-04-12</th>\n",
       "      <td>172.339996</td>\n",
       "      <td>173.809998</td>\n",
       "      <td>170.360001</td>\n",
       "      <td>171.050003</td>\n",
       "      <td>171.050003</td>\n",
       "      <td>64506600</td>\n",
       "    </tr>\n",
       "    <tr>\n",
       "      <th>2024-04-15</th>\n",
       "      <td>170.248001</td>\n",
       "      <td>170.690002</td>\n",
       "      <td>162.322006</td>\n",
       "      <td>162.610001</td>\n",
       "      <td>162.610001</td>\n",
       "      <td>74787566</td>\n",
       "    </tr>\n",
       "  </tbody>\n",
       "</table>\n",
       "<p>3472 rows × 6 columns</p>\n",
       "</div>"
      ],
      "text/plain": [
       "                  Open        High         Low       Close   Adj Close  \\\n",
       "Date                                                                     \n",
       "2010-06-29    1.266667    1.666667    1.169333    1.592667    1.592667   \n",
       "2010-06-30    1.719333    2.028000    1.553333    1.588667    1.588667   \n",
       "2010-07-01    1.666667    1.728000    1.351333    1.464000    1.464000   \n",
       "2010-07-02    1.533333    1.540000    1.247333    1.280000    1.280000   \n",
       "2010-07-06    1.333333    1.333333    1.055333    1.074000    1.074000   \n",
       "...                ...         ...         ...         ...         ...   \n",
       "2024-04-09  172.910004  179.220001  171.919998  176.880005  176.880005   \n",
       "2024-04-10  173.039993  174.929993  170.009995  171.759995  171.759995   \n",
       "2024-04-11  172.550003  175.880005  168.509995  174.600006  174.600006   \n",
       "2024-04-12  172.339996  173.809998  170.360001  171.050003  171.050003   \n",
       "2024-04-15  170.248001  170.690002  162.322006  162.610001  162.610001   \n",
       "\n",
       "               Volume  \n",
       "Date                   \n",
       "2010-06-29  281494500  \n",
       "2010-06-30  257806500  \n",
       "2010-07-01  123282000  \n",
       "2010-07-02   77097000  \n",
       "2010-07-06  103003500  \n",
       "...               ...  \n",
       "2024-04-09  103232700  \n",
       "2024-04-10   84532400  \n",
       "2024-04-11   94516000  \n",
       "2024-04-12   64506600  \n",
       "2024-04-15   74787566  \n",
       "\n",
       "[3472 rows x 6 columns]"
      ]
     },
     "execution_count": 13,
     "metadata": {},
     "output_type": "execute_result"
    }
   ],
   "source": [
    "load_data()"
   ]
  },
  {
   "cell_type": "code",
   "execution_count": 12,
   "id": "72e3faa8-2939-4ecc-babd-0fb3b25e2ff0",
   "metadata": {},
   "outputs": [],
   "source": [
    "# Exercise 1\n",
    "import pandas as pd\n",
    "\n",
    "def load_data() -> pd.DataFrame:\n",
    "    \"\"\"\n",
    "    A function that accesses the file on Tesla stock price history on the course website.\n",
    "    Returns that data as a pd.DataFrame\n",
    "    \"\"\"\n",
    "\n",
    "    return pd.read_csv(\"https://lukashager.netlify.app/econ-481/data/TSLA.csv\", index_col=0, parse_dates=True)"
   ]
  },
  {
   "cell_type": "code",
   "execution_count": 34,
   "id": "f2294dac-fd29-457d-b1bf-1d30636d6733",
   "metadata": {},
   "outputs": [],
   "source": [
    "# Exercise 2\n",
    "import matplotlib.pyplot as plt\n",
    "\n",
    "def plot_close(df: pd.DataFrame, start: str = '2010-06-29', end: str = '2024-04-15') -> None:\n",
    "    \"\"\"\n",
    "    A function that takes the output of load_data() as defined above, as well as an optional start and end date (strings formatted as ‘YYYY-MM-DD’).\n",
    "    Plots the closing price of the stock between those dates as a line graph. Include the date range in the title of the graph.\n",
    "    \"\"\"\n",
    "    if not isinstance(df.index, pd.DatetimeIndex):\n",
    "        df.index = pd.to_datetime(df.index)\n",
    "\n",
    "    # Filter the DataFrame to the specified date range\n",
    "    mask = (df.index >= start) & (df.index <= end)\n",
    "    filtered_df = df.loc[mask]\n",
    "\n",
    "    # Create a plot of the 'Close' prices\n",
    "    plt.figure(figsize=(12, 6))  # Define the size of the figure\n",
    "    plt.plot(filtered_df.index, filtered_df['Close'], label='Close Price', color='blue', linewidth=2)\n",
    "    plt.title(f'Tesla Stock Close Prices from {start} to {end}')  # Set the title with the date range\n",
    "    plt.xlabel('Date')  # Label for the X-axis\n",
    "    plt.ylabel('Close Price (USD)')  # Label for the Y-axis\n",
    "    plt.grid(True)  # Add a grid for better readability\n",
    "    plt.legend()  # Add a legend\n",
    "    plt.show() \n",
    "\n"
   ]
  },
  {
   "cell_type": "code",
   "execution_count": 35,
   "id": "ecfba8fa-0637-432d-97bf-4bd8e0920771",
   "metadata": {},
   "outputs": [
    {
     "data": {
      "image/png": "[encoded data removed]",
      "text/plain": [
       "<Figure size 1200x600 with 1 Axes>"
      ]
     },
     "metadata": {},
     "output_type": "display_data"
    }
   ],
   "source": [
    "plot_close(load_data(), '2019-06-29', '2024-04-15')"
   ]
  },
  {
   "cell_type": "code",
   "execution_count": null,
   "id": "2d5ea2db-def5-4c30-b361-2b8415e72cd4",
   "metadata": {},
   "outputs": [],
   "source": []
  },
  {
   "cell_type": "code",
   "execution_count": null,
   "id": "b7d1109e-221e-4b06-a8a0-f6a63671ba82",
   "metadata": {},
   "outputs": [],
   "source": [
    "# Exercise 3\n",
    "def autoregress(df: pd.DataFrame) -> float:\n",
    "    \"\"\"\n",
    "    Some docstrings.\n",
    "    \"\"\"\n",
    "    # Calculate the difference in 'Close' prices\n",
    "    df['Delta_x'] = df['Close'].diff()\n",
    "\n",
    "    # Ensure only observations with consecutive days are used\n",
    "    # 'freq' argument is not necessary here since we are using 'diff()'\n",
    "    df = df.dropna()  # Drop the first row which will be NaN after diff()\n",
    "\n",
    "    # Setup the lagged variable of the differences\n",
    "    df['Delta_x_lag'] = df['Delta_x'].shift(1)\n",
    "    df = df.dropna()  # Drop the resulting NaN values from shifting\n",
    "\n",
    "    # Regression model without intercept\n",
    "    X = df['Delta_x_lag']\n",
    "    y = df['Delta_x']\n",
    "    X = sm.add_constant(X, has_constant='add')\n",
    "    model = sm.OLS(y, X)\n",
    "    results = model.fit(cov_type='HC1')  # Use HC1 standard errors\n",
    "\n",
    "    # Get the t-statistic for \\hat{\\beta}_0\n",
    "    t_stat = results.tvalues[1]  # index 1 refers to \\beta_0, index 0 is for the constant\n",
    "\n",
    "    return t_stat\n",
    "    return None"
   ]
  },
  {
   "cell_type": "code",
   "execution_count": 39,
   "id": "5b4e7c70-9692-46f9-9e46-4da799fbde5d",
   "metadata": {},
   "outputs": [
    {
     "data": {
      "text/plain": [
       "Date\n",
       "2010-06-30         NaN\n",
       "2010-07-01   -0.004000\n",
       "2010-07-02   -0.124667\n",
       "2010-07-06   -0.184000\n",
       "2010-07-07   -0.206000\n",
       "                ...   \n",
       "2024-04-09    8.080002\n",
       "2024-04-10    3.900009\n",
       "2024-04-11   -5.120010\n",
       "2024-04-12    2.840011\n",
       "2024-04-15   -3.550003\n",
       "Name: Delta_x, Length: 3471, dtype: float64"
      ]
     },
     "execution_count": 39,
     "metadata": {},
     "output_type": "execute_result"
    }
   ],
   "source": [
    "test['Delta_x'] = test['Close'].diff()\n",
    "test = test.dropna()\n",
    "test['Delta_x'].shift(1)"
   ]
  },
  {
   "cell_type": "code",
   "execution_count": 41,
   "id": "a9ea8d96-763a-45c1-985e-2121f86961a4",
   "metadata": {},
   "outputs": [
    {
     "data": {
      "text/plain": [
       "Date\n",
       "2010-06-30   -0.004000\n",
       "2010-07-01   -0.124667\n",
       "2010-07-02   -0.184000\n",
       "2010-07-06   -0.206000\n",
       "2010-07-07   -0.020667\n",
       "                ...   \n",
       "2024-04-09    3.900009\n",
       "2024-04-10   -5.120010\n",
       "2024-04-11    2.840011\n",
       "2024-04-12   -3.550003\n",
       "2024-04-15   -8.440002\n",
       "Name: Delta_x, Length: 3471, dtype: float64"
      ]
     },
     "execution_count": 41,
     "metadata": {},
     "output_type": "execute_result"
    }
   ],
   "source": [
    "test['Delta_x']"
   ]
  },
  {
   "cell_type": "code",
   "execution_count": null,
   "id": "532639ac-e263-41e6-896e-38e0b4005d10",
   "metadata": {},
   "outputs": [],
   "source": []
  },
  {
   "cell_type": "code",
   "execution_count": null,
   "id": "b00cea7a-8aa8-4f18-8601-f2b18ca6d6da",
   "metadata": {},
   "outputs": [],
   "source": []
  },
  {
   "cell_type": "code",
   "execution_count": null,
   "id": "6ff43c29-47be-4ddc-9acf-72572a45e6df",
   "metadata": {},
   "outputs": [],
   "source": []
  },
  {
   "cell_type": "code",
   "execution_count": null,
   "id": "60b9eeb0-5b2e-4410-ad5d-e3eaf7d02d81",
   "metadata": {},
   "outputs": [],
   "source": []
  },
  {
   "cell_type": "code",
   "execution_count": null,
   "id": "e4472c0c-5593-42c8-9f86-19ef8a2b63dc",
   "metadata": {},
   "outputs": [],
   "source": []
  },
  {
   "cell_type": "code",
   "execution_count": null,
   "id": "05d8bca7-cca7-41a7-a79f-b68667b4e957",
   "metadata": {},
   "outputs": [],
   "source": []
  }
 ],
 "metadata": {
  "kernelspec": {
   "display_name": "Python 3 (ipykernel)",
   "language": "python",
   "name": "python3"
  },
  "language_info": {
   "codemirror_mode": {
    "name": "ipython",
    "version": 3
   },
   "file_extension": ".py",
   "mimetype": "text/x-python",
   "name": "python",
   "nbconvert_exporter": "python",
   "pygments_lexer": "ipython3",
   "version": "3.10.13"
  }
 },
 "nbformat": 4,
 "nbformat_minor": 5
}
