{
 "cells": [
  {
   "cell_type": "code",
   "execution_count": 1,
   "id": "5f7cd777-6d75-47b6-bba6-a44e317fb35f",
   "metadata": {},
   "outputs": [],
   "source": [
    "def github() -> str:\n",
    "    \"\"\"\n",
    "    This function returns a link to the GitHub repository containing solutions.\n",
    "\n",
    "    Returns:\n",
    "        str: The URL to the GitHub repository.\n",
    "    \"\"\"\n",
    "    return \"https://github.com/anasfathul/ECON481/ECON481_HW1.py>\""
   ]
  },
  {
   "cell_type": "code",
   "execution_count": null,
   "id": "ed51f6ca-bc6f-4c4f-8e36-906f8a90ba0d",
   "metadata": {},
   "outputs": [],
   "source": [
    "!pip install numpy\n",
    "pandas\n",
    "scipy\n",
    "matplotlib\n",
    "seaborn"
   ]
  }
 ],
 "metadata": {
  "kernelspec": {
   "display_name": "Python 3 (ipykernel)",
   "language": "python",
   "name": "python3"
  },
  "language_info": {
   "codemirror_mode": {
    "name": "ipython",
    "version": 3
   },
   "file_extension": ".py",
   "mimetype": "text/x-python",
   "name": "python",
   "nbconvert_exporter": "python",
   "pygments_lexer": "ipython3",
   "version": "3.10.13"
  }
 },
 "nbformat": 4,
 "nbformat_minor": 5
}
